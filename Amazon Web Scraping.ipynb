{
 "cells": [
  {
   "cell_type": "code",
   "execution_count": 3,
   "id": "cfae1b39-0fcc-4887-a7c4-fdd8e4efee7c",
   "metadata": {},
   "outputs": [],
   "source": [
    "from bs4 import BeautifulSoup\n",
    "import requests\n",
    "import time\n",
    "import datetime\n",
    "\n",
    "import smtplib\n"
   ]
  },
  {
   "cell_type": "code",
   "execution_count": 15,
   "id": "8432b7e5-d983-4337-8836-f5685c9592e6",
   "metadata": {},
   "outputs": [
    {
     "name": "stdout",
     "output_type": "stream",
     "text": [
      "📌 Title: Redragon S101 Gaming Keyboard, M601 Mouse, RGB Backlit Gaming Keyboard, Programmable Backlit Gaming Mouse, Value Combo Set [New Version]\n",
      "💰 Price: 39.\n"
     ]
    }
   ],
   "source": [
    "import requests\n",
    "from bs4 import BeautifulSoup\n",
    "\n",
    "# Amazon Product URL\n",
    "URL = 'https://www.amazon.com/Redragon-S101-Keyboard-Ergonomic-Programmable/dp/B00NLZUM36/'\n",
    "\n",
    "# Headers to mimic a real browser visit\n",
    "headers = {\n",
    "    \"User-Agent\": \"Mozilla/5.0 (Windows NT 10.0; Win64; x64) AppleWebKit/537.36 (KHTML, like Gecko) Chrome/100.0.3904.108 Safari/537.36\",\n",
    "    \"Accept-Language\": \"en-US,en;q=0.9\",\n",
    "    \"Accept-Encoding\": \"gzip, deflate\",\n",
    "    \"DNT\": \"1\",\n",
    "    \"Connection\": \"close\"\n",
    "}\n",
    "\n",
    "# Send request\n",
    "page = requests.get(URL, headers=headers)\n",
    "\n",
    "# Check if request was successful\n",
    "if page.status_code != 200:\n",
    "    print(f\"🔴 Request failed! Status code: {page.status_code}\")\n",
    "else:\n",
    "    soup = BeautifulSoup(page.content, \"html.parser\")\n",
    "\n",
    "    # Check if the title exists\n",
    "    title_element = soup.find(id='productTitle')\n",
    "    title = title_element.get_text(strip=True) if title_element else \"🔴 Title not found\"\n",
    "\n",
    "    # Try multiple locations for the price\n",
    "    price_element = (\n",
    "        soup.find(id=\"priceblock_dealprice\") or\n",
    "        soup.find(id=\"priceblock_ourprice\") or\n",
    "        soup.find(\"span\", {\"class\": \"a-price-whole\"}) or\n",
    "        soup.find(\"span\", {\"class\": \"a-offscreen\"})  # Latest Amazon price format\n",
    "    )\n",
    "    price = price_element.get_text(strip=True) if price_element else \"🔴 Price not found\"\n",
    "\n",
    "    print(f\"📌 Title: {title}\")\n",
    "    print(f\"💰 Price: {price}\")\n",
    "\n"
   ]
  },
  {
   "cell_type": "code",
   "execution_count": 23,
   "id": "655487a1-1612-4547-baa4-4dbbc216f6a3",
   "metadata": {},
   "outputs": [],
   "source": [
    "price_element = (\n",
    "    soup.find(id=\"priceblock_dealprice\") or\n",
    "    soup.find(id=\"priceblock_ourprice\") or\n",
    "    soup.find(\"span\", {\"class\": \"a-price-whole\"}) or\n",
    "    soup.find(\"span\", {\"class\": \"a-offscreen\"})  # Newest Amazon price format\n",
    ")\n",
    "\n",
    "price = price_element.get_text(strip=True) if price_element else \"🔴 Price not found\"\n"
   ]
  },
  {
   "cell_type": "code",
   "execution_count": 26,
   "id": "6266f0f1-7ef8-490e-be7d-5dd9c7eef9e5",
   "metadata": {},
   "outputs": [
    {
     "name": "stdout",
     "output_type": "stream",
     "text": [
      "💰 Full Price: 39..99\n",
      "Redragon S101 Gaming Keyboard, M601 Mouse, RGB Backlit Gaming Keyboard, Programmable Backlit Gaming Mouse, Value Combo Set [New Version]\n"
     ]
    }
   ],
   "source": [
    "# Clean up the data a little bit\n",
    "# Get the whole number part of the price\n",
    "price_whole = soup.find(\"span\", {\"class\": \"a-price-whole\"})\n",
    "price_whole = price_whole.get_text(strip=True) if price_whole else \"\"\n",
    "\n",
    "# Get the decimal part of the price\n",
    "price_fraction = soup.find(\"span\", {\"class\": \"a-price-fraction\"})\n",
    "price_fraction = price_fraction.get_text(strip=True) if price_fraction else \"00\"  # Default to 00 if no fraction\n",
    "\n",
    "# Combine the full price\n",
    "if price_whole:\n",
    "    price = f\"{price_whole}.{price_fraction}\"\n",
    "else:\n",
    "    price = \"🔴 Price not found\"\n",
    "\n",
    "print(f\"💰 Full Price: {price}\")\n",
    "\n",
    "\n",
    "title = title.strip()\n",
    "\n",
    "print(title)\n"
   ]
  },
  {
   "cell_type": "code",
   "execution_count": 27,
   "id": "098bdc00-349b-4dde-8440-e61a891a5f95",
   "metadata": {},
   "outputs": [
    {
     "name": "stdout",
     "output_type": "stream",
     "text": [
      "2025-02-08\n"
     ]
    }
   ],
   "source": [
    "# Create a Timestamp for your output to track when data was collected\n",
    "\n",
    "import datetime\n",
    "\n",
    "today = datetime.date.today()\n",
    "\n",
    "print(today)"
   ]
  },
  {
   "cell_type": "code",
   "execution_count": 28,
   "id": "d6640618-c349-4aee-a2f9-0308ec4e304a",
   "metadata": {},
   "outputs": [],
   "source": [
    "# Create CSV and write headers and data into the file\n",
    "\n",
    "import csv \n",
    "\n",
    "header = ['Title', 'Price', 'Date']\n",
    "data = [title, price, today]\n",
    "\n",
    "\n",
    "with open('AmazonWebScraperDataset.csv', 'w', newline='', encoding='UTF8') as f:\n",
    "    writer = csv.writer(f)\n",
    "    writer.writerow(header)\n",
    "    writer.writerow(data)\n",
    "    "
   ]
  },
  {
   "cell_type": "code",
   "execution_count": 29,
   "id": "1c87075b-37be-4c14-8bca-cf3972199bcf",
   "metadata": {},
   "outputs": [
    {
     "name": "stdout",
     "output_type": "stream",
     "text": [
      "                                               Title   Price        Date\n",
      "0  Redragon S101 Gaming Keyboard, M601 Mouse, RGB...  39..99  2025-02-08\n"
     ]
    }
   ],
   "source": [
    "import pandas as pd\n",
    "\n",
    "df = pd.read_csv(r'C:\\Users\\Sanni Kangasvieri\\Creative Cloud Files\\AmazonWebScraperDataset.csv')\n",
    "\n",
    "print(df)"
   ]
  },
  {
   "cell_type": "code",
   "execution_count": 30,
   "id": "f4fdd1ad-59ec-4500-8c2b-81d9395f5004",
   "metadata": {},
   "outputs": [],
   "source": [
    "#Now we are appending data to the csv\n",
    "\n",
    "with open('AmazonWebScraperDataset.csv', 'a+', newline='', encoding='UTF8') as f:\n",
    "    writer = csv.writer(f)\n",
    "    writer.writerow(data)"
   ]
  },
  {
   "cell_type": "code",
   "execution_count": 35,
   "id": "caccc343-f42d-416b-9fb1-9549bb158b3b",
   "metadata": {},
   "outputs": [],
   "source": [
    "import requests\n",
    "from bs4 import BeautifulSoup\n",
    "import datetime\n",
    "import csv\n",
    "import time\n",
    "\n",
    "def check_price():\n",
    "    URL = 'https://www.amazon.com/Redragon-S101-Keyboard-Ergonomic-Programmable/dp/B00NLZUM36/'\n",
    "\n",
    "    headers = {\n",
    "        \"User-Agent\": \"Mozilla/5.0 (Windows NT 10.0; Win64; x64) AppleWebKit/537.36 (KHTML, like Gecko) Chrome/78.0.3904.108 Safari/537.36\",\n",
    "        \"Accept-Encoding\": \"gzip, deflate\",\n",
    "        \"Accept\": \"text/html,application/xhtml+xml,application/xml;q=0.9,*/*;q=0.8\",\n",
    "        \"DNT\": \"1\",\n",
    "        \"Connection\": \"close\"\n",
    "    }\n",
    "\n",
    "    # Send request\n",
    "    page = requests.get(URL, headers=headers)\n",
    "\n",
    "    # Check if request was successful\n",
    "    if page.status_code != 200:\n",
    "        print(f\"🔴 Request failed! Status code: {page.status_code}\")\n",
    "        return  # Exit the function if request fails\n",
    "\n",
    "    soup = BeautifulSoup(page.content, \"html.parser\")\n",
    "\n",
    "    # Get product title\n",
    "    title_element = soup.find(id='productTitle')\n",
    "    title = title_element.get_text(strip=True) if title_element else \"🔴 Title not found\"\n",
    "\n",
    "    # Try multiple locations for the price\n",
    "    price_element = (\n",
    "        soup.find(id=\"priceblock_dealprice\") or\n",
    "        soup.find(id=\"priceblock_ourprice\") or\n",
    "        soup.find(\"span\", {\"class\": \"a-price-whole\"}) or\n",
    "        soup.find(\"span\", {\"class\": \"a-offscreen\"})  # Newest Amazon price format\n",
    "    )\n",
    "\n",
    "    price = price_element.get_text(strip=True) if price_element else \"🔴 Price not found\"\n",
    "\n",
    "    # Clean price format\n",
    "    if price.startswith(\"$\"):\n",
    "        price = price[1:]  # Remove the dollar sign\n",
    "    elif price == \"🔴 Price not found\":\n",
    "        price = \"N/A\"  # Assign N/A if price is missing\n",
    "\n",
    "    # Add timestamp\n",
    "    today = datetime.date.today()\n",
    "\n",
    "    # Print results for debugging\n",
    "    print(f\"📌 Title: {title}\")\n",
    "    print(f\"💰 Price: {price}\")\n",
    "    print(f\"📅 Date: {today}\")\n",
    "\n",
    "    # Save to CSV\n",
    "    header = ['Title', 'Price', 'Date']\n",
    "    data = [title, price, today]\n",
    "\n",
    "    # Append data to CSV file\n",
    "    with open('AmazonWebScraperDataset.csv', 'a+', newline='', encoding='UTF8') as f:\n",
    "        writer = csv.writer(f)\n",
    "        \n",
    "        # Write header only if file is empty\n",
    "        if f.tell() == 0:\n",
    "            writer.writerow(header)\n",
    "        \n",
    "        writer.writerow(data)\n",
    "\n"
   ]
  },
  {
   "cell_type": "code",
   "execution_count": null,
   "id": "1a9bf65b-5666-4e61-b945-7e1b10d4ef19",
   "metadata": {},
   "outputs": [
    {
     "name": "stdout",
     "output_type": "stream",
     "text": [
      "📌 Title: Redragon S101 Gaming Keyboard, M601 Mouse, RGB Backlit Gaming Keyboard, Programmable Backlit Gaming Mouse, Value Combo Set [New Version]\n",
      "💰 Price: 39.\n",
      "📅 Date: 2025-02-08\n"
     ]
    }
   ],
   "source": [
    "# Runs check_price after a set time and inputs data into your CSV\n",
    "\n",
    "while(True):\n",
    "    check_price()\n",
    "    time.sleep(86400)"
   ]
  },
  {
   "cell_type": "code",
   "execution_count": null,
   "id": "ed470f1d-f8ff-407b-b293-a63d169991cd",
   "metadata": {},
   "outputs": [],
   "source": [
    "import pandas as pd\n",
    "\n",
    "df = pd.read_csv(r'C:\\Users\\Sanni Kangasvieri\\Creative Cloud Files\\AmazonWebScraperDataset.csv')\n",
    "\n",
    "print(df)"
   ]
  },
  {
   "cell_type": "code",
   "execution_count": null,
   "id": "c58a3bd6-dc48-491b-90bf-72cff895cf72",
   "metadata": {},
   "outputs": [],
   "source": [
    "\n",
    "def send_mail():\n",
    "    server = smtplib.SMTP_SSL('smtp.gmail.com',465)\n",
    "    server.ehlo()\n",
    "    #server.starttls()\n",
    "    server.ehlo()\n",
    "    server.login('dogu.dzmn@gmail.com','xxxxxxxxxxxxxx')\n",
    "    \n",
    "    subject = \"The Shirt you want is below $25! Now is your chance to buy!\"\n",
    "    body = \"Dogukan, This is the moment we have been waiting for. Now is your chance to pick up the shirt of your dreams. Don't mess it up! Link here: https://www.amazon.com/Funny-Data-Systems-Business-Analyst/dp/B07FNW9FGJ/ref=sr_1_3?dchild=1&keywords=data+analyst+tshirt&qid=1626655184&sr=8-3\"\n",
    "   \n",
    "    msg = f\"Subject: {subject}\\n\\n{body}\"\n",
    "    \n",
    "    server.sendmail(\n",
    "        'dogu.dzmn@gmail.com',\n",
    "        msg\n",
    "     \n",
    "    )"
   ]
  }
 ],
 "metadata": {
  "kernelspec": {
   "display_name": "Python 3 (ipykernel)",
   "language": "python",
   "name": "python3"
  },
  "language_info": {
   "codemirror_mode": {
    "name": "ipython",
    "version": 3
   },
   "file_extension": ".py",
   "mimetype": "text/x-python",
   "name": "python",
   "nbconvert_exporter": "python",
   "pygments_lexer": "ipython3",
   "version": "3.13.0"
  }
 },
 "nbformat": 4,
 "nbformat_minor": 5
}
